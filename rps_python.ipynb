{
  "nbformat": 4,
  "nbformat_minor": 0,
  "metadata": {
    "colab": {
      "provenance": [],
      "authorship_tag": "ABX9TyPafdt1ivfIkIc0V5mK4TXx",
      "include_colab_link": true
    },
    "kernelspec": {
      "name": "python3",
      "display_name": "Python 3"
    },
    "language_info": {
      "name": "python"
    }
  },
  "cells": [
    {
      "cell_type": "markdown",
      "metadata": {
        "id": "view-in-github",
        "colab_type": "text"
      },
      "source": [
        "<a href=\"https://colab.research.google.com/github/Vika0408/Rock_paper_scissors/blob/main/rps_python.ipynb\" target=\"_parent\"><img src=\"https://colab.research.google.com/assets/colab-badge.svg\" alt=\"Open In Colab\"/></a>"
      ]
    },
    {
      "cell_type": "code",
      "execution_count": null,
      "metadata": {
        "id": "DQ1n3VLyCewz"
      },
      "outputs": [],
      "source": [
        "import random\n",
        "from enum import IntEnum"
      ]
    },
    {
      "cell_type": "code",
      "source": [
        "class Action(IntEnum) :\n",
        "  Rock = 0\n",
        "  Paper = 1\n",
        "  Scissors = 2"
      ],
      "metadata": {
        "id": "kd-BRxasG7BB"
      },
      "execution_count": null,
      "outputs": []
    },
    {
      "cell_type": "code",
      "source": [
        "def get_user_selection():\n",
        "    choices = [f\"{action.name}[{action.value}]\" for action in Action]\n",
        "    choices_str = \", \".join(choices)\n",
        "    selection = int(input(f\"Enter a choice ({choices_str}): \"))\n",
        "    action = Action(selection)\n",
        "    return action"
      ],
      "metadata": {
        "id": "a4vxESDECrpi"
      },
      "execution_count": null,
      "outputs": []
    },
    {
      "cell_type": "code",
      "source": [
        "get_user_selection()"
      ],
      "metadata": {
        "colab": {
          "base_uri": "https://localhost:8080/"
        },
        "id": "tcdNTe-xHGhB",
        "outputId": "9528a38f-13c0-41f8-c939-1f42d0acf4cb"
      },
      "execution_count": null,
      "outputs": [
        {
          "name": "stdout",
          "output_type": "stream",
          "text": [
            "Enter a choice (Rock[0], Paper[1], Scissors[2]): 1\n"
          ]
        },
        {
          "output_type": "execute_result",
          "data": {
            "text/plain": [
              "<Action.Paper: 1>"
            ]
          },
          "metadata": {},
          "execution_count": 10
        }
      ]
    },
    {
      "cell_type": "code",
      "source": [
        "def get_computer_selection():\n",
        "  selection = random.randint(0, len(Action)-1)\n",
        "  action = Action(selection)\n",
        "  return action"
      ],
      "metadata": {
        "id": "U3boQEjSC_8Z"
      },
      "execution_count": null,
      "outputs": []
    },
    {
      "cell_type": "code",
      "source": [
        "get_computer_selection()"
      ],
      "metadata": {
        "colab": {
          "base_uri": "https://localhost:8080/"
        },
        "id": "ba2X2BttDXxK",
        "outputId": "f9a95d88-ff6d-43c9-a14a-67915688c69f"
      },
      "execution_count": null,
      "outputs": [
        {
          "output_type": "execute_result",
          "data": {
            "text/plain": [
              "<Action.Scissors: 2>"
            ]
          },
          "metadata": {},
          "execution_count": 12
        }
      ]
    },
    {
      "cell_type": "code",
      "source": [
        "def determine_winner(user_action, computer_action):\n",
        "    if user_action == computer_action:\n",
        "        print(f\"Both players selected {user_action.name}. It's a tie!\")\n",
        "    elif user_action == Action.Rock:\n",
        "        if computer_action == Action.Scissors:\n",
        "            print(\"Rock smashes scissors! You win!\")\n",
        "        else:\n",
        "            print(\"Paper covers rock! You lose.\")\n",
        "    elif user_action == Action.Paper:\n",
        "        if computer_action == Action.Rock:\n",
        "            print(\"Paper covers rock! You win!\")\n",
        "        else:\n",
        "            print(\"Scissors cuts paper! You lose.\")\n",
        "    elif user_action == Action.Scissors:\n",
        "        if computer_action == Action.Paper:\n",
        "            print(\"Scissors cuts paper! You win!\")\n",
        "        else:\n",
        "            print(\"Rock smashes scissors! You lose.\")"
      ],
      "metadata": {
        "id": "doOvSKdfDyyG"
      },
      "execution_count": null,
      "outputs": []
    },
    {
      "cell_type": "code",
      "source": [
        "while True :\n",
        "  try :\n",
        "    user_action = get_user_selection()\n",
        "  except ValueError as e:\n",
        "    range_str = f\"[0,{len(Action)-1}]\"\n",
        "    print(f\"Invalid selection. Enter a value in range {range_str}\")\n",
        "    continue\n",
        "\n",
        "  computer_action = get_computer_selection()\n",
        "  print(f\"You : {user_action}, computer : {computer_action}\")\n",
        "  determine_winner(user_action, computer_action)\n",
        "\n",
        "  play_again = input(\"Play again? (yes/no) : \")\n",
        "  if play_again.lower() != \"yes\" :\n",
        "    break"
      ],
      "metadata": {
        "colab": {
          "base_uri": "https://localhost:8080/"
        },
        "id": "NvuECVTUI4wO",
        "outputId": "8450d346-168e-43c9-8f98-b5dc836e63b9"
      },
      "execution_count": null,
      "outputs": [
        {
          "name": "stdout",
          "output_type": "stream",
          "text": [
            "Enter a choice (Rock[0], Paper[1], Scissors[2]): 2\n",
            "You : 2, computer : 2\n",
            "Both players selected Scissors. It's a tie!\n",
            "Play again? (yes/no) : yes\n",
            "Enter a choice (Rock[0], Paper[1], Scissors[2]): 1\n",
            "You : 1, computer : 0\n",
            "Paper covers rock! You win!\n",
            "Play again? (yes/no) : no\n"
          ]
        }
      ]
    }
  ]
}